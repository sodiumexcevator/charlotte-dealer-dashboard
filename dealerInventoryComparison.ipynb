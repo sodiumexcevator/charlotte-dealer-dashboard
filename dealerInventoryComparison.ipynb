{
 "cells": [
  {
   "cell_type": "code",
   "execution_count": 1,
   "id": "b79e414a",
   "metadata": {},
   "outputs": [],
   "source": [
    "import re\n",
    "from datetime import date\n",
    "import matplotlib.pyplot as plt\n",
    "import matplotlib.ticker as mtick\n",
    "import numpy as np\n",
    "import pandas as pd\n",
    "import seaborn as sns"
   ]
  },
  {
   "cell_type": "markdown",
   "id": "502783b6",
   "metadata": {},
   "source": [
    "Things to keep in mind for the data:\n",
    "-henddf and stadf don't include VIN\n",
    "-henddf doesn't have price for a large portion of the data"
   ]
  },
  {
   "cell_type": "code",
   "execution_count": 2,
   "id": "209e7dab",
   "metadata": {},
   "outputs": [],
   "source": [
    "henddf = pd.read_csv(\"selenium_hend_paginated_scrape.csv\")\n",
    "keffdf = pd.read_csv(\"selenium_kef_paginated_scrape.csv\")\n",
    "lkndf = pd.read_csv(\"selenium_LKN_paginated_scrape.csv\")\n",
    "statdf = pd.read_csv(\"selenium_stateline_paginated_scrape.csv\")\n",
    "nctoyodf =pd.read_csv(\"selenium_NcharToyo_paginated_scrape.csv\")\n",
    "modnisdf = pd.read_csv(\"selenium_mod_Nissan_LKN_paginated_scrape.csv\")\n",
    "lkninfdf = pd.read_csv(\"selenium_LKNinf_paginated_scrape.csv\")\n",
    "lknhyudf = pd.read_csv(\"selenium_LKNhyun_paginated_scrape.csv\")"
   ]
  },
  {
   "cell_type": "code",
   "execution_count": 3,
   "id": "9be55c2d",
   "metadata": {},
   "outputs": [
    {
     "name": "stdout",
     "output_type": "stream",
     "text": [
      "Condition_Year_Make_Model    1233\n",
      "Price                         207\n",
      "dtype: int64\n",
      "Condition_Year    555\n",
      "Make_Model        555\n",
      "Price             545\n",
      "Vin               555\n",
      "dtype: int64\n",
      "Condition_Year    1476\n",
      "Make_Model        1476\n",
      "Price             1435\n",
      "Vin               1476\n",
      "dtype: int64\n",
      "Condition_Year    2331\n",
      "Make_Model        2331\n",
      "Price             2283\n",
      "Vin                  0\n",
      "dtype: int64\n"
     ]
    }
   ],
   "source": [
    "print(henddf.count())\n",
    "print(keffdf.count())\n",
    "print(lkndf.count())\n",
    "print(statdf.count())"
   ]
  },
  {
   "cell_type": "code",
   "execution_count": 4,
   "id": "204ef6fc",
   "metadata": {},
   "outputs": [],
   "source": [
    "#formatted on site as Condition/Year/Make/Model/Trim\n",
    "#source 1\n",
    "henddf[\"Dealer\"] = \"1\"\n"
   ]
  },
  {
   "cell_type": "code",
   "execution_count": 5,
   "id": "90b8563f-f32e-4b52-8a27-c1db45a3bff0",
   "metadata": {},
   "outputs": [],
   "source": [
    "#formatted on site as Condition/Year then Make/Model/Trim\n",
    "#source 2\n",
    "keffdf[\"Dealer\"] = \"2\"\n",
    "lkndf[\"Dealer\"] = \"3\"\n",
    "modnisdf[\"Dealer\"] = \"6\""
   ]
  },
  {
   "cell_type": "code",
   "execution_count": 6,
   "id": "123430c6-24f1-426a-bd5f-e222594e8920",
   "metadata": {},
   "outputs": [],
   "source": [
    "#formatted on site as \"condition/year\" then Condition/Year/Make/Model/Trim\n",
    "#source 3\n",
    "statdf[\"Dealer\"] = \"4\"\n"
   ]
  },
  {
   "cell_type": "code",
   "execution_count": 7,
   "id": "11a936c3-e623-4bd0-abf0-807959607498",
   "metadata": {},
   "outputs": [],
   "source": [
    "#formatted on site as \"condition\" then Year/Make/Model/Trim\n",
    "#source 4\n",
    "nctoyodf[\"Dealer\"] = \"5\""
   ]
  },
  {
   "cell_type": "code",
   "execution_count": 8,
   "id": "07718fd5-6e80-42a2-9009-130c7b787898",
   "metadata": {},
   "outputs": [],
   "source": [
    "#formatted on site as \"condition\" then \"Year\" then \"Make/Model\" then \"Trim\"\n",
    "#source 5\n",
    "lkninfdf[\"Dealer\"] = \"7\""
   ]
  },
  {
   "cell_type": "code",
   "execution_count": 9,
   "id": "6ea92e25-feef-4832-8b07-ccdefea4d047",
   "metadata": {},
   "outputs": [],
   "source": [
    "#formatted on site as \"condition\" then \"Year\" then Make/Model/Trim\n",
    "#source 6\n",
    "lknhyudf[\"Dealer\"] = \"8\""
   ]
  },
  {
   "cell_type": "code",
   "execution_count": 10,
   "id": "f2b9de10-1d60-42b3-b737-9eee4baab7de",
   "metadata": {},
   "outputs": [],
   "source": [
    "def combine_source1(df):\n",
    "    df[\"Condition_Year_Make_Model\"] =\"new\" + \" \" + df[\"Condition_Year_Make_Model\"]\n",
    "    return df"
   ]
  },
  {
   "cell_type": "code",
   "execution_count": 11,
   "id": "7d814ea2-3b5a-438e-bd4a-59aaaa58221e",
   "metadata": {},
   "outputs": [],
   "source": [
    "def combine_source2(df):\n",
    "    df[\"Condition_Year_Make_Model\"]=df[\"Condition_Year\"].fillna(\"\") + \" \" +df[\"Make_Model\"].fillna(\"\")\n",
    "    df=df.drop([\"Condition_Year\", \"Make_Model\"], axis=1)\n",
    "    return df"
   ]
  },
  {
   "cell_type": "code",
   "execution_count": 12,
   "id": "7aefe7e9-8571-4578-b03d-b9d955439863",
   "metadata": {},
   "outputs": [],
   "source": [
    "def combine_source3(df):\n",
    "    df[\"Condition_Year_Make_Model\"]=df[\"Make_Model\"]\n",
    "    df=df.drop([\"Condition_Year\", \"Make_Model\"], axis=1)\n",
    "    return df"
   ]
  },
  {
   "cell_type": "code",
   "execution_count": 13,
   "id": "dbc8eaf7-c645-4ddc-8616-e3f44e232114",
   "metadata": {},
   "outputs": [],
   "source": [
    "def combine_source4(df):\n",
    "    df[\"Condition_Year_Make_Model\"]=df[\"Condition\"] + \" \" + df[\"Year_Make_Model\"]\n",
    "    df=df.drop([\"Condition\", \"Year_Make_Model\"], axis=1)\n",
    "    return df"
   ]
  },
  {
   "cell_type": "code",
   "execution_count": 14,
   "id": "c770b115-f4cb-4668-be5e-fe8bb349e01e",
   "metadata": {},
   "outputs": [],
   "source": [
    "def combine_source5(df):\n",
    "    df[\"Condition_Year_Make_Model\"]=df[\"Condition\"] + \" \" + df[\"Year\"].astype(str) + \" \" + df[\"Make_Model\"]+ \" \" + df[\"Trim\"]\n",
    "    df=df.drop([\"Condition\", \"Year\", \"Make_Model\", \"Trim\"], axis=1)\n",
    "    return df"
   ]
  },
  {
   "cell_type": "code",
   "execution_count": 15,
   "id": "f8eab3f0-7f32-4734-a7bc-6e9af0f97f48",
   "metadata": {},
   "outputs": [],
   "source": [
    "def combine_source6(df):\n",
    "    df[\"Condition_Year_Make_Model\"]=df[\"Condition\"] + \" \" + df[\"Year\"].astype(str) + \" \" + df[\"Make_Model\"]\n",
    "    df=df.drop([\"Condition\", \"Year\", \"Make_Model\"], axis=1)\n",
    "    return df"
   ]
  },
  {
   "cell_type": "code",
   "execution_count": 16,
   "id": "884e446c-09a8-4c78-a232-cbfe08e4f176",
   "metadata": {},
   "outputs": [],
   "source": [
    "#function to normalize condition data and make everything lower case\n",
    "def normalize_df_column(df, col):\n",
    "    def normalize_text(text):\n",
    "        text = text.lower()\n",
    "        # Replace variations with \"used\"\n",
    "        text = re.sub(r'\\bcertified\\s+pre[-\\s]?owned\\b', 'used', text)\n",
    "        text = re.sub(r'\\bpre[-\\s]?owned\\b', 'used', text)\n",
    "        text = re.sub(r'\\bcertified\\s+used\\b', 'used', text)\n",
    "        # Remove extra spaces\n",
    "        return re.sub(r'\\s+', ' ', text).strip()\n",
    "\n",
    "    df[col] = df[col].astype(str).apply(normalize_text)\n",
    "    return df"
   ]
  },
  {
   "cell_type": "code",
   "execution_count": 17,
   "id": "bf9b0094-4a4a-4bd9-a59c-36e51736f8af",
   "metadata": {},
   "outputs": [],
   "source": [
    "#to run through what ever needs to be changed to make them uniform for prcessing later depending on the source\n",
    "def  process_inventory_dataframe(df, source):\n",
    "    if source==\"source 1\":\n",
    "        df=combine_source1(df)\n",
    "    elif source==\"source 2\":\n",
    "        df=combine_source2(df)\n",
    "    elif source==\"source 3\":\n",
    "        df=combine_source3(df)\n",
    "    elif source==\"source 4\":\n",
    "        df=combine_source4(df)\n",
    "    elif source==\"source 5\":\n",
    "        df=combine_source5(df)\n",
    "    elif source==\"source 6\":\n",
    "        df=combine_source6(df)\n",
    "\n",
    "    return df"
   ]
  },
  {
   "cell_type": "code",
   "execution_count": 18,
   "id": "90cf1922-fd47-43f0-99bf-d8b614639fb7",
   "metadata": {},
   "outputs": [],
   "source": [
    "#run pipeline function and combine dataframes\n",
    "henddf_clean = process_inventory_dataframe(henddf, source=\"source 1\")\n",
    "keffdf_clean = process_inventory_dataframe(keffdf, source=\"source 2\")\n",
    "lkndf_clean = process_inventory_dataframe(lkndf, source=\"source 2\")\n",
    "statdf_clean = process_inventory_dataframe(statdf, source=\"source 3\")\n",
    "nctoyodf_clean = process_inventory_dataframe(nctoyodf, source=\"source 4\")\n",
    "modnisdf_clean = process_inventory_dataframe(modnisdf, source=\"source 3\")\n",
    "lkninfdf_clean = process_inventory_dataframe(lkninfdf, source=\"source 5\")\n",
    "lknhyudf_clean = process_inventory_dataframe(lknhyudf, source=\"source 6\")\n",
    "\n",
    "#combine the different dataframes and normalize the Condition/Year/make/model column\n",
    "comb_df = pd.concat([henddf_clean, keffdf_clean, lkndf_clean, statdf_clean, nctoyodf_clean, modnisdf_clean, lkninfdf_clean, lknhyudf_clean], ignore_index=True)\n",
    "comb_df = normalize_df_column(comb_df, \"Condition_Year_Make_Model\")\n",
    "comb_df.to_csv(\"comb_dealer_data.csv\", index=False)"
   ]
  },
  {
   "cell_type": "code",
   "execution_count": 19,
   "id": "ab0ba5fc-b2b8-47fa-8e1b-9926867f3000",
   "metadata": {},
   "outputs": [
    {
     "data": {
      "text/html": [
       "<div>\n",
       "<style scoped>\n",
       "    .dataframe tbody tr th:only-of-type {\n",
       "        vertical-align: middle;\n",
       "    }\n",
       "\n",
       "    .dataframe tbody tr th {\n",
       "        vertical-align: top;\n",
       "    }\n",
       "\n",
       "    .dataframe thead th {\n",
       "        text-align: right;\n",
       "    }\n",
       "</style>\n",
       "<table border=\"1\" class=\"dataframe\">\n",
       "  <thead>\n",
       "    <tr style=\"text-align: right;\">\n",
       "      <th></th>\n",
       "      <th>Condition_Year_Make_Model</th>\n",
       "      <th>Price</th>\n",
       "      <th>Dealer</th>\n",
       "      <th>Vin</th>\n",
       "      <th>Stock</th>\n",
       "    </tr>\n",
       "  </thead>\n",
       "  <tbody>\n",
       "    <tr>\n",
       "      <th>0</th>\n",
       "      <td>new 2025 jeep grand cherokee laredo x</td>\n",
       "      <td>$39,580</td>\n",
       "      <td>1</td>\n",
       "      <td>NaN</td>\n",
       "      <td>NaN</td>\n",
       "    </tr>\n",
       "    <tr>\n",
       "      <th>1</th>\n",
       "      <td>new 2025 dodge durango gt</td>\n",
       "      <td>$40,090</td>\n",
       "      <td>1</td>\n",
       "      <td>NaN</td>\n",
       "      <td>NaN</td>\n",
       "    </tr>\n",
       "    <tr>\n",
       "      <th>2</th>\n",
       "      <td>new 2025 jeep grand cherokee laredo x</td>\n",
       "      <td>$40,175</td>\n",
       "      <td>1</td>\n",
       "      <td>NaN</td>\n",
       "      <td>NaN</td>\n",
       "    </tr>\n",
       "    <tr>\n",
       "      <th>3</th>\n",
       "      <td>new 2025 jeep grand cherokee laredo x</td>\n",
       "      <td>NaN</td>\n",
       "      <td>1</td>\n",
       "      <td>NaN</td>\n",
       "      <td>NaN</td>\n",
       "    </tr>\n",
       "    <tr>\n",
       "      <th>4</th>\n",
       "      <td>new 2025 jeep grand cherokee laredo x</td>\n",
       "      <td>NaN</td>\n",
       "      <td>1</td>\n",
       "      <td>NaN</td>\n",
       "      <td>NaN</td>\n",
       "    </tr>\n",
       "  </tbody>\n",
       "</table>\n",
       "</div>"
      ],
      "text/plain": [
       "               Condition_Year_Make_Model    Price Dealer  Vin Stock\n",
       "0  new 2025 jeep grand cherokee laredo x  $39,580      1  NaN   NaN\n",
       "1              new 2025 dodge durango gt  $40,090      1  NaN   NaN\n",
       "2  new 2025 jeep grand cherokee laredo x  $40,175      1  NaN   NaN\n",
       "3  new 2025 jeep grand cherokee laredo x      NaN      1  NaN   NaN\n",
       "4  new 2025 jeep grand cherokee laredo x      NaN      1  NaN   NaN"
      ]
     },
     "execution_count": 19,
     "metadata": {},
     "output_type": "execute_result"
    }
   ],
   "source": [
    "comb_df.head()"
   ]
  },
  {
   "cell_type": "code",
   "execution_count": 20,
   "id": "978484ba-1e89-472f-97d2-de1c48694445",
   "metadata": {},
   "outputs": [],
   "source": [
    "def pull_condition(df):\n",
    "    # Split Condition/Year/make/modle at the first space space\n",
    "    split_at_cond = comb_df[\"Condition_Year_Make_Model\"].str.split(\" \", n=1, expand=True).fillna(\"\")\n",
    "    df[\"Condition\"] = split_at_cond[0]\n",
    "    df[\"Year_Make_Model\"] = split_at_cond[1]\n",
    "\n",
    "    #check for any condition words in the leftover column and delete them\n",
    "    pattern = re.compile(r'\\b(new|used|certified|gold|pre[-\\s]?owned)\\b', flags=re.IGNORECASE)\n",
    "    df[\"Year_Make_Model\"] = df[\"Year_Make_Model\"].astype(str).apply(lambda x: pattern.sub('', x).strip())\n",
    "    #drop old column\n",
    "    df=df.drop([\"Condition_Year_Make_Model\"], axis=1)\n",
    "    #Capitalize first letter\n",
    "    df[\"Condition\"] = df[\"Condition\"].astype(str).str.title()\n",
    "    return df"
   ]
  },
  {
   "cell_type": "code",
   "execution_count": 21,
   "id": "4b5e0142-2709-4810-9c49-e564a9952450",
   "metadata": {},
   "outputs": [],
   "source": [
    "def pull_year(df):\n",
    "    #split \n",
    "    split_at_cond = comb_df[\"Year_Make_Model\"].str.split(\" \", n=1, expand=True).fillna(\"\")\n",
    "    comb_df[\"Year\"] = split_at_cond[0]\n",
    "    comb_df[\"Make_Model\"] = split_at_cond[1]\n",
    "    df=df.drop([\"Year_Make_Model\"], axis=1)\n",
    "    return df"
   ]
  },
  {
   "cell_type": "code",
   "execution_count": 22,
   "id": "a3a74959-5309-4e28-82f5-41d56fa77c1e",
   "metadata": {},
   "outputs": [],
   "source": [
    "def pull_make(df):\n",
    "    known_makes = {'jeep', 'ram', 'chrysler', 'dodge', 'fiat', 'ford', 'hyundai', 'honda', 'kia',\n",
    " 'toyota', 'nissan', 'audi', 'lexus', 'chevrolet', 'bmw', 'gmc', 'tesla', 'volvo',\n",
    " 'subaru', 'genesis', 'infiniti', 'alfa romeo', 'land rover', 'scion', 'mazda', 'lincoln', 'acura', 'mercedes-benz', 'volkswagen', 'porsche', 'mini',\n",
    "'mitsubishi', 'buick', 'coleman', 'crossroads', 'cadillac', 'freightliner', 'maserati', 'jaguar', 'bentley', 'ineos'}\n",
    "    def checker(text):\n",
    "        text = str(text).strip().lower()\n",
    "\n",
    "        # Try matching entire known make at start\n",
    "        for make in known_makes:\n",
    "            if text.startswith(make):\n",
    "                model = text[len(make):].strip()\n",
    "                return pd.Series([make, model])\n",
    "\n",
    "        # Fallback: split by first space\n",
    "        parts = text.split()\n",
    "        if len(parts) >= 2:\n",
    "            return pd.Series([parts[0], \" \".join(parts[1:])])\n",
    "        elif len(parts) == 1:\n",
    "            return pd.Series([parts[0], \"\"])  # one word, assume it's the make\n",
    "        else:\n",
    "            return pd.Series([\"unknown_make\", \"unknown_model\"])  # empty/malformed row\n",
    "\n",
    "    #run checker through column\n",
    "    df[[\"Make\", \"Model_Trim\"]] = df[\"Make_Model\"].apply(checker)\n",
    "    #drop old column\n",
    "    df=df.drop([\"Make_Model\"], axis=1)\n",
    "    #Capitalize first letter\n",
    "    df[\"Make\"] = df[\"Make\"].astype(str).str.title()\n",
    "    return df"
   ]
  },
  {
   "cell_type": "code",
   "execution_count": 23,
   "id": "ecfc4978-a448-4df8-9e0b-a1279c7dd164",
   "metadata": {},
   "outputs": [],
   "source": [
    "def split_model_trim(df):\n",
    "    use_two_word_models = [\"grand\", \"model\", \"flying\", \"range\", \"land\", \"promaster\"]\n",
    "    use_three_word_models = [\"town\"]\n",
    "    drop_first_word_models = [\"trucks\"]\n",
    "\n",
    "\n",
    "    def custom_model_trim_split(text):\n",
    "        words = text.split()\n",
    "        if not words:\n",
    "            return (\"\", \"\")\n",
    "\n",
    "        # Drop the first word if it's in the drop list\n",
    "        if words[0] in drop_first_word_models:\n",
    "            words = words[1:]\n",
    "\n",
    "        # Check 3-word model rules\n",
    "        if words and words[0] in use_three_word_models and len(words) >= 3:\n",
    "            model = \" \".join(words[:3])\n",
    "            trim = \" \".join(words[3:]) if len(words) > 3 else \"\"\n",
    "            return (model, trim)\n",
    "\n",
    "        # Check 2-word model rules\n",
    "        if words and words[0] in use_two_word_models and len(words) >= 2:\n",
    "            model = \" \".join(words[:2])\n",
    "            trim = \" \".join(words[2:]) if len(words) > 2 else \"\"\n",
    "            return (model, trim)\n",
    "\n",
    "        # Default: first word is model, rest is trim\n",
    "        model = words[0]\n",
    "        trim = \" \".join(words[1:]) if len(words) > 1 else \"\"\n",
    "        return (model, trim)\n",
    "\n",
    "\n",
    "    # Apply the function\n",
    "    comb_df[[\"Model\", \"Trim\"]] = comb_df[\"Model_Trim\"].apply(\n",
    "        lambda x: pd.Series(custom_model_trim_split(x))\n",
    "    )\n",
    "    # Drop the original combined column\n",
    "    comb_df.drop(columns=\"Model_Trim\", inplace=True)\n",
    "        #Capitalize first letter\n",
    "    df[\"Model\"] = df[\"Model\"].astype(str).str.title()\n",
    "    \n",
    "    return df\n"
   ]
  },
  {
   "cell_type": "code",
   "execution_count": 24,
   "id": "7466f767-b4a3-4642-8918-128f18629d14",
   "metadata": {},
   "outputs": [],
   "source": [
    "comb_df=pull_condition(comb_df)"
   ]
  },
  {
   "cell_type": "code",
   "execution_count": 25,
   "id": "ca76bfca-7efb-4ffa-939f-b33beaabe361",
   "metadata": {},
   "outputs": [],
   "source": [
    "comb_df=pull_year(comb_df)"
   ]
  },
  {
   "cell_type": "code",
   "execution_count": 26,
   "id": "e032dd8f-4308-4a8d-8037-3f588cd1074c",
   "metadata": {},
   "outputs": [],
   "source": [
    "comb_df=pull_make(comb_df)"
   ]
  },
  {
   "cell_type": "code",
   "execution_count": 27,
   "id": "ebded95c-dd16-4f8f-a286-e817781bf494",
   "metadata": {},
   "outputs": [],
   "source": [
    "comb_df=split_model_trim(comb_df)"
   ]
  },
  {
   "cell_type": "code",
   "execution_count": 28,
   "id": "026a9c85",
   "metadata": {},
   "outputs": [],
   "source": [
    "def format_make(make):\n",
    "    # List of known Make acronyms that should stay fully uppercase\n",
    "    acronyms = [\n",
    "        \"BMW\",\n",
    "        \"GMC\",\n",
    "        \"RAM\",\n",
    "        \"KIA\",\n",
    "        \"FIAT\",\n",
    "        \"MINI\",\n",
    "        \"BYD\",\n",
    "        \"MG\",\n",
    "        \"HUMMER\",\n",
    "        \"GENESIS\",\n",
    "    ]\n",
    "    make_upper = make.upper()\n",
    "    if make_upper in acronyms:\n",
    "        return make_upper\n",
    "    else:\n",
    "        return make.capitalize()\n",
    "\n",
    "\n",
    "# Apply the function\n",
    "comb_df.loc[:, \"Make\"] = comb_df[\"Make\"].apply(format_make)"
   ]
  },
  {
   "cell_type": "code",
   "execution_count": 29,
   "id": "0d720dbe",
   "metadata": {},
   "outputs": [],
   "source": [
    "def format_make(model):\n",
    "    acronyms = [\n",
    "        \"CR-V\",\n",
    "        \"ES\",\n",
    "        \"IS\",\n",
    "        \"LS\",\n",
    "        \"NX\",\n",
    "        \"RX\",\n",
    "        \"GLC\",\n",
    "        \"C-HR\",\n",
    "        \"MDX\",\n",
    "        \"ILX\",\n",
    "        \"ZDX\",\n",
    "        \"HR-V\",\n",
    "        \"MKZ\",\n",
    "        \"SRX\",\n",
    "        \"XT6\",\n",
    "        \"XT5\",\n",
    "        \"XT4\",\n",
    "        \"F-150\",\n",
    "        \"F-250SD\",\n",
    "        \"F-350SD\",\n",
    "        \"GLE\",\n",
    "        \"ML\",\n",
    "        \"TL\",\n",
    "        \"TLX\",\n",
    "        \"RLX\",\n",
    "        \"CT\",\n",
    "        \"EQB\",\n",
    "        \"EQS\",\n",
    "        \"G90\",\n",
    "        \"G80\",\n",
    "        \"GV70\",\n",
    "        \"GV80\",\n",
    "        \"G70\",\n",
    "        \"Q3\",\n",
    "        \"Q5\",\n",
    "        \"Q7\",\n",
    "        \"Q8\",\n",
    "        \"QX50\",\n",
    "        \"QX55\",\n",
    "        \"QX60\",\n",
    "        \"QX80\",\n",
    "        \"XC40\",\n",
    "        \"XC60\",\n",
    "        \"XC90\",\n",
    "        \"A3\",\n",
    "        \"A4\",\n",
    "        \"A5\",\n",
    "        \"A6\",\n",
    "        \"A7\",\n",
    "        \"A8\",\n",
    "        \"S4\",\n",
    "        \"S5\",\n",
    "        \"S60\",\n",
    "        \"SQ5\",\n",
    "        \"CLE\",\n",
    "        \"GLA\",\n",
    "        \"GLB\",\n",
    "        \"GLS\",\n",
    "        \"AMG®\",\n",
    "        \"C\",\n",
    "        \"E\",\n",
    "        \"G\",\n",
    "        \"CLA\",\n",
    "        \"GR\",\n",
    "        \"Z4\",\n",
    "        \"Z\",\n",
    "        \"X1\",\n",
    "        \"X3\",\n",
    "        \"X5\",\n",
    "        \"X7\",\n",
    "        \"i\",\n",
    "        \"i4\",\n",
    "        \"iX\",\n",
    "        \"3\",\n",
    "        \"5\",\n",
    "        \"7\",\n",
    "        \"8\",\n",
    "        \"4\",\n",
    "        \"EQB\",\n",
    "        \"CX-30\",\n",
    "        \"CX-5\",\n",
    "        \"CX-50\",\n",
    "        \"CX-70\",\n",
    "        \"CX-9\",\n",
    "        \"CX-90\",\n",
    "        \"C-Max\",\n",
    "        \"3.5L\",\n",
    "        \"350Z\",\n",
    "    ]\n",
    "    model_upper = model.upper()\n",
    "    if model_upper in acronyms:\n",
    "        return model_upper\n",
    "    else:\n",
    "        return model.capitalize()\n",
    "\n",
    "\n",
    "# Apply the function\n",
    "comb_df.loc[:, \"Model\"] = comb_df[\"Model\"].apply(format_make)"
   ]
  },
  {
   "cell_type": "code",
   "execution_count": 30,
   "id": "8788eab0",
   "metadata": {},
   "outputs": [],
   "source": [
    "comb_df[\"Date\"]=date.today()\n",
    "comb_df.to_csv(\"LocalInv.csv\", index=False)"
   ]
  },
  {
   "cell_type": "code",
   "execution_count": 31,
   "id": "77fa8ff4",
   "metadata": {},
   "outputs": [],
   "source": [
    "# boilerplate to hunt down iregular values\n",
    "# list of problematic values\n",
    "# Problem_children = [\"Land\"]  # replace with your actual values\n",
    "\n",
    "# Filter rows where column is in the list\n",
    "# problem_rows = comb_df[comb_df[\"Column\"].isin(Problem_children)]\n",
    "\n",
    "# Display the result\n",
    "# print(problem_rows)"
   ]
  },
  {
   "cell_type": "code",
   "execution_count": null,
   "id": "0901c91b",
   "metadata": {},
   "outputs": [],
   "source": []
  },
  {
   "cell_type": "code",
   "execution_count": null,
   "id": "5003e933-49f1-4637-a081-6175e3e51afe",
   "metadata": {},
   "outputs": [],
   "source": []
  }
 ],
 "metadata": {
  "kernelspec": {
   "display_name": "Python 3 (ipykernel)",
   "language": "python",
   "name": "python3"
  },
  "language_info": {
   "codemirror_mode": {
    "name": "ipython",
    "version": 3
   },
   "file_extension": ".py",
   "mimetype": "text/x-python",
   "name": "python",
   "nbconvert_exporter": "python",
   "pygments_lexer": "ipython3",
   "version": "3.11.5"
  }
 },
 "nbformat": 4,
 "nbformat_minor": 5
}
